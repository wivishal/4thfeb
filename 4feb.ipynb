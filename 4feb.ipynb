{
 "cells": [
  {
   "cell_type": "code",
   "execution_count": 1,
   "id": "45724cad-5c65-4271-976a-23829cdd4bf0",
   "metadata": {},
   "outputs": [
    {
     "name": "stdout",
     "output_type": "stream",
     "text": [
      "[('Virat Kohli', 24936), ('Jack Kallis', 25534), ('Ricky Ponting', 27483), ('Sachin Tendulkar', 34357)]\n"
     ]
    }
   ],
   "source": [
    "##Q1. Create a python program to sort the given list of tuples based on integer value using a lambda function.\n",
    "##[('Sachin Tendulkar', 34357), ('Ricky Ponting', 27483), ('Jack Kallis', 25534), ('Virat Kohli', 24936)]\n",
    "l = [('Sachin Tendulkar', 34357), ('Ricky Ponting', 27483), ('Jack Kallis', 25534), ('Virat Kohli', 24936)]\n",
    "l.sort(key = lambda x : x[1])\n",
    "print(l)"
   ]
  },
  {
   "cell_type": "code",
   "execution_count": 2,
   "id": "aaebcbf6-05a7-4f52-b3d7-108f625fe194",
   "metadata": {},
   "outputs": [
    {
     "data": {
      "text/plain": [
       "[1, 4, 9, 16, 25, 36, 49, 64, 81, 100]"
      ]
     },
     "execution_count": 2,
     "metadata": {},
     "output_type": "execute_result"
    }
   ],
   "source": [
    "##Q2. Write a Python Program to find the squares of all the numbers in the given list of integers using  lambda and map functions.\n",
    "##[1, 2, 3, 4, 5, 6, 7, 8, 9, 10]\n",
    "l1 = [1, 2, 3, 4, 5, 6, 7, 8, 9, 10]\n",
    "list(map(lambda x : x**2, l1))"
   ]
  },
  {
   "cell_type": "code",
   "execution_count": 3,
   "id": "4481efe9-662d-4271-ba7d-1431ebfc0d83",
   "metadata": {},
   "outputs": [
    {
     "data": {
      "text/plain": [
       "('1', '2', '3', '4', '5', '6', '7', '8', '9', '10')"
      ]
     },
     "execution_count": 3,
     "metadata": {},
     "output_type": "execute_result"
    }
   ],
   "source": [
    "##Q3. Write a python program to convert the given list of integers into a tuple of strings. Use map and lambda functions\n",
    "##Given String: [1, 2, 3, 4, 5, 6, 7, 8, 9, 10]\n",
    "##Expected output: ('1', '2', '3', '4', '5', '6', '7', '8', '9', '10')\n",
    "l2 = [1, 2, 3, 4, 5, 6, 7, 8, 9, 10]\n",
    "tuple(map(lambda y : str(y),l2))"
   ]
  },
  {
   "cell_type": "code",
   "execution_count": 7,
   "id": "84e4b069-f5f1-4901-8d8a-7fa73cb2a259",
   "metadata": {},
   "outputs": [
    {
     "data": {
      "text/plain": [
       "15511210043330985984000000"
      ]
     },
     "execution_count": 7,
     "metadata": {},
     "output_type": "execute_result"
    }
   ],
   "source": [
    "##Q4. Write a python program using reduce function to compute the product of a list containing numbers from 1 to 25.\n",
    "from functools import reduce\n",
    "l3 = range(1,26)\n",
    "reduce(lambda x,y : x*y, l3)"
   ]
  },
  {
   "cell_type": "code",
   "execution_count": 13,
   "id": "23faf091-38e1-4665-931c-05c9df28723d",
   "metadata": {},
   "outputs": [
    {
     "data": {
      "text/plain": [
       "[6, 60, 90, 120]"
      ]
     },
     "execution_count": 13,
     "metadata": {},
     "output_type": "execute_result"
    }
   ],
   "source": [
    "##Q5. Write a python program to filter the numbers in a given list that are divisible by 2 and 3 using the filter function.\n",
    "##[2, 3, 6, 9, 27, 60, 90, 120, 55, 46]\n",
    "l4 = [2, 3, 6, 9, 27, 60, 90, 120, 55, 46]\n",
    "list(filter(lambda z : z % 2 == 0 and z % 3 == 0, l4))"
   ]
  },
  {
   "cell_type": "code",
   "execution_count": 24,
   "id": "98141dcc-ab7e-487f-ab33-56fd7eec6a7b",
   "metadata": {},
   "outputs": [
    {
     "data": {
      "text/plain": [
       "['php', 'aba', 'radar', 'level']"
      ]
     },
     "execution_count": 24,
     "metadata": {},
     "output_type": "execute_result"
    }
   ],
   "source": [
    "##Q6. Write a python program to find palindromes in the given list of strings using lambda and filter function.\n",
    "##['python', 'php', 'aba', 'radar', 'level']\n",
    "l5 = ['python', 'php', 'aba', 'radar', 'level']\n",
    "list(filter(lambda s : s == s[::-1], l5))"
   ]
  },
  {
   "cell_type": "code",
   "execution_count": null,
   "id": "ece02e46-54cc-425c-9b34-97f2e8bece9d",
   "metadata": {},
   "outputs": [],
   "source": []
  }
 ],
 "metadata": {
  "kernelspec": {
   "display_name": "Python 3 (ipykernel)",
   "language": "python",
   "name": "python3"
  },
  "language_info": {
   "codemirror_mode": {
    "name": "ipython",
    "version": 3
   },
   "file_extension": ".py",
   "mimetype": "text/x-python",
   "name": "python",
   "nbconvert_exporter": "python",
   "pygments_lexer": "ipython3",
   "version": "3.10.6"
  }
 },
 "nbformat": 4,
 "nbformat_minor": 5
}
